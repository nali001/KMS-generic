{
 "cells": [
  {
   "cell_type": "markdown",
   "id": "70ea8d51-9187-4bb7-ae4e-8232c3c847fa",
   "metadata": {},
   "source": [
    "# Test for adhoc crawler"
   ]
  },
  {
   "cell_type": "code",
   "execution_count": 2,
   "id": "c655fd30-c8d1-4d79-b302-1f10166c8138",
   "metadata": {},
   "outputs": [],
   "source": [
    "from elasticsearch import Elasticsearch"
   ]
  },
  {
   "cell_type": "code",
   "execution_count": 4,
   "id": "4ba55724-2750-4318-a678-9f8031aa2a59",
   "metadata": {},
   "outputs": [
    {
     "name": "stdout",
     "output_type": "stream",
     "text": [
      "{'webcontents': {'aliases': {}}, 'notebooks': {'aliases': {}}, 'test-index': {'aliases': {}}}\n"
     ]
    },
    {
     "name": "stderr",
     "output_type": "stream",
     "text": [
      "/usr/local/lib/python3.7/dist-packages/ipykernel_launcher.py:2: DeprecationWarning: Using positional arguments for APIs is deprecated and will be disabled in 8.0.0. Instead use only keyword arguments for all APIs. See https://github.com/elastic/elasticsearch-py/issues/1698 for more information\n",
      "  \n",
      "/usr/local/lib/python3.7/dist-packages/elasticsearch/connection/base.py:200: ElasticsearchWarning: Elasticsearch built-in security features are not enabled. Without authentication, your cluster could be accessible to anyone. See https://www.elastic.co/guide/en/elasticsearch/reference/7.17/security-minimal-setup.html to enable security.\n",
      "  warnings.warn(message, category=ElasticsearchWarning)\n"
     ]
    }
   ],
   "source": [
    "es = Elasticsearch(\"http://localhost:9200\")"
   ]
  },
  {
   "cell_type": "code",
   "execution_count": 5,
   "id": "58c67d5e-7106-4481-a6a6-356c68fc77b9",
   "metadata": {},
   "outputs": [
    {
     "data": {
      "text/plain": [
       "{'acknowledged': True}"
      ]
     },
     "execution_count": 5,
     "metadata": {},
     "output_type": "execute_result"
    }
   ],
   "source": [
    "# Delet the existing index\n",
    "es.indices.delete(index = \"webcontents\", ignore = [400, 404])"
   ]
  },
  {
   "cell_type": "code",
   "execution_count": 6,
   "id": "2a491b9b-a821-4c0b-a0ac-6842670b5c26",
   "metadata": {},
   "outputs": [
    {
     "name": "stderr",
     "output_type": "stream",
     "text": [
      "/usr/local/lib/python3.7/dist-packages/ipykernel_launcher.py:1: DeprecationWarning: Using positional arguments for APIs is deprecated and will be disabled in 8.0.0. Instead use only keyword arguments for all APIs. See https://github.com/elastic/elasticsearch-py/issues/1698 for more information\n",
      "  \"\"\"Entry point for launching an IPython kernel.\n"
     ]
    },
    {
     "data": {
      "text/plain": [
       "{'notebooks': {'aliases': {}}, 'test-index': {'aliases': {}}}"
      ]
     },
     "execution_count": 6,
     "metadata": {},
     "output_type": "execute_result"
    }
   ],
   "source": [
    "es.indices.get_alias(\"*\")"
   ]
  },
  {
   "cell_type": "code",
   "execution_count": 7,
   "id": "ffef8fad-3021-4cd5-af42-77ff9dd4bec3",
   "metadata": {},
   "outputs": [],
   "source": [
    "import adhoc_crawler\n",
    "import json"
   ]
  },
  {
   "cell_type": "code",
   "execution_count": 10,
   "id": "b106334f-420f-41ce-b5f4-05fc3f1e7d9b",
   "metadata": {},
   "outputs": [],
   "source": [
    "ResearchInfrastructures=open('medicalwebsites.json',\"r\")\n",
    "ResearchInfrastructures = json.loads(r''+ResearchInfrastructures.read())"
   ]
  },
  {
   "cell_type": "code",
   "execution_count": 11,
   "id": "7c10cf46-b56c-4f68-816d-c423499644db",
   "metadata": {},
   "outputs": [
    {
     "data": {
      "text/plain": [
       "{'panda': {'id': 1,\n",
       "  'url': 'https://panda.grand-challenge.org/',\n",
       "  'domain': 'Medical',\n",
       "  'title': 'Panda dataset',\n",
       "  'acronym': 'Panda'},\n",
       " 'digitalpathology': {'id': 2,\n",
       "  'url': 'https://digitalpathologyassociation.org/',\n",
       "  'domain': 'Medical',\n",
       "  'title': 'Digital pathology',\n",
       "  'acronym': 'DPA'},\n",
       " 'warwick': {'id': 2,\n",
       "  'url': 'https://warwick.ac.uk/fac/cross_fac/tia/data/',\n",
       "  'domain': 'Medical',\n",
       "  'title': 'Warwick datasets',\n",
       "  'acronym': 'Warwick datasets'},\n",
       " 'tcia_histopathology': {'id': 2,\n",
       "  'url': 'https://www.cancerimagingarchive.net/histopathology-imaging-on-tcia/',\n",
       "  'domain': 'Medical',\n",
       "  'title': 'TCIA histopathology',\n",
       "  'acronym': 'TCIA histopathology'},\n",
       " 'grand_challenge': {'id': 2,\n",
       "  'url': 'https://grand-challenge.org/',\n",
       "  'domain': 'Medical',\n",
       "  'title': 'The grand challenge',\n",
       "  'acronym': 'grand-challenge'}}"
      ]
     },
     "execution_count": 11,
     "metadata": {},
     "output_type": "execute_result"
    }
   ],
   "source": [
    "ResearchInfrastructures"
   ]
  },
  {
   "cell_type": "code",
   "execution_count": null,
   "id": "61ce5e5e-29cd-4247-969b-f9f89139e31c",
   "metadata": {},
   "outputs": [],
   "source": []
  }
 ],
 "metadata": {
  "kernelspec": {
   "display_name": "Python 3 (ipykernel)",
   "language": "python",
   "name": "python3"
  },
  "language_info": {
   "codemirror_mode": {
    "name": "ipython",
    "version": 3
   },
   "file_extension": ".py",
   "mimetype": "text/x-python",
   "name": "python",
   "nbconvert_exporter": "python",
   "pygments_lexer": "ipython3",
   "version": "3.7.3"
  }
 },
 "nbformat": 4,
 "nbformat_minor": 5
}
